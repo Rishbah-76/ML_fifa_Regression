{
 "cells": [
  {
   "cell_type": "code",
   "execution_count": 1,
   "metadata": {},
   "outputs": [],
   "source": [
    "import numpy as np\n",
    "import pandas as pd\n",
    "import matplotlib.pyplot as plt\n",
    "import seaborn as sns\n"
   ]
  },
  {
   "cell_type": "code",
   "execution_count": 2,
   "metadata": {},
   "outputs": [
    {
     "data": {
      "text/html": [
       "<div>\n",
       "<style scoped>\n",
       "    .dataframe tbody tr th:only-of-type {\n",
       "        vertical-align: middle;\n",
       "    }\n",
       "\n",
       "    .dataframe tbody tr th {\n",
       "        vertical-align: top;\n",
       "    }\n",
       "\n",
       "    .dataframe thead th {\n",
       "        text-align: right;\n",
       "    }\n",
       "</style>\n",
       "<table border=\"1\" class=\"dataframe\">\n",
       "  <thead>\n",
       "    <tr style=\"text-align: right;\">\n",
       "      <th></th>\n",
       "      <th>overall_rating</th>\n",
       "      <th>potential</th>\n",
       "      <th>crossing</th>\n",
       "      <th>finishing</th>\n",
       "      <th>heading_accuracy</th>\n",
       "      <th>short_passing</th>\n",
       "      <th>volleys</th>\n",
       "      <th>dribbling</th>\n",
       "      <th>curve</th>\n",
       "      <th>free_kick_accuracy</th>\n",
       "      <th>...</th>\n",
       "      <th>defensive_work_rate_8</th>\n",
       "      <th>defensive_work_rate_9</th>\n",
       "      <th>defensive_work_rate_ean</th>\n",
       "      <th>defensive_work_rate_es</th>\n",
       "      <th>defensive_work_rate_high</th>\n",
       "      <th>defensive_work_rate_low</th>\n",
       "      <th>defensive_work_rate_medium</th>\n",
       "      <th>defensive_work_rate_o</th>\n",
       "      <th>defensive_work_rate_ormal</th>\n",
       "      <th>defensive_work_rate_tocky</th>\n",
       "    </tr>\n",
       "  </thead>\n",
       "  <tbody>\n",
       "    <tr>\n",
       "      <th>0</th>\n",
       "      <td>67.0</td>\n",
       "      <td>71.0</td>\n",
       "      <td>49.0</td>\n",
       "      <td>44.0</td>\n",
       "      <td>71.0</td>\n",
       "      <td>61.0</td>\n",
       "      <td>44.0</td>\n",
       "      <td>51.0</td>\n",
       "      <td>45.0</td>\n",
       "      <td>39.0</td>\n",
       "      <td>...</td>\n",
       "      <td>0</td>\n",
       "      <td>0</td>\n",
       "      <td>0</td>\n",
       "      <td>0</td>\n",
       "      <td>0</td>\n",
       "      <td>0</td>\n",
       "      <td>1</td>\n",
       "      <td>0</td>\n",
       "      <td>0</td>\n",
       "      <td>0</td>\n",
       "    </tr>\n",
       "    <tr>\n",
       "      <th>1</th>\n",
       "      <td>67.0</td>\n",
       "      <td>71.0</td>\n",
       "      <td>49.0</td>\n",
       "      <td>44.0</td>\n",
       "      <td>71.0</td>\n",
       "      <td>61.0</td>\n",
       "      <td>44.0</td>\n",
       "      <td>51.0</td>\n",
       "      <td>45.0</td>\n",
       "      <td>39.0</td>\n",
       "      <td>...</td>\n",
       "      <td>0</td>\n",
       "      <td>0</td>\n",
       "      <td>0</td>\n",
       "      <td>0</td>\n",
       "      <td>0</td>\n",
       "      <td>0</td>\n",
       "      <td>1</td>\n",
       "      <td>0</td>\n",
       "      <td>0</td>\n",
       "      <td>0</td>\n",
       "    </tr>\n",
       "    <tr>\n",
       "      <th>2</th>\n",
       "      <td>62.0</td>\n",
       "      <td>66.0</td>\n",
       "      <td>49.0</td>\n",
       "      <td>44.0</td>\n",
       "      <td>71.0</td>\n",
       "      <td>61.0</td>\n",
       "      <td>44.0</td>\n",
       "      <td>51.0</td>\n",
       "      <td>45.0</td>\n",
       "      <td>39.0</td>\n",
       "      <td>...</td>\n",
       "      <td>0</td>\n",
       "      <td>0</td>\n",
       "      <td>0</td>\n",
       "      <td>0</td>\n",
       "      <td>0</td>\n",
       "      <td>0</td>\n",
       "      <td>1</td>\n",
       "      <td>0</td>\n",
       "      <td>0</td>\n",
       "      <td>0</td>\n",
       "    </tr>\n",
       "    <tr>\n",
       "      <th>3</th>\n",
       "      <td>61.0</td>\n",
       "      <td>65.0</td>\n",
       "      <td>48.0</td>\n",
       "      <td>43.0</td>\n",
       "      <td>70.0</td>\n",
       "      <td>60.0</td>\n",
       "      <td>43.0</td>\n",
       "      <td>50.0</td>\n",
       "      <td>44.0</td>\n",
       "      <td>38.0</td>\n",
       "      <td>...</td>\n",
       "      <td>0</td>\n",
       "      <td>0</td>\n",
       "      <td>0</td>\n",
       "      <td>0</td>\n",
       "      <td>0</td>\n",
       "      <td>0</td>\n",
       "      <td>1</td>\n",
       "      <td>0</td>\n",
       "      <td>0</td>\n",
       "      <td>0</td>\n",
       "    </tr>\n",
       "    <tr>\n",
       "      <th>4</th>\n",
       "      <td>61.0</td>\n",
       "      <td>65.0</td>\n",
       "      <td>48.0</td>\n",
       "      <td>43.0</td>\n",
       "      <td>70.0</td>\n",
       "      <td>60.0</td>\n",
       "      <td>43.0</td>\n",
       "      <td>50.0</td>\n",
       "      <td>44.0</td>\n",
       "      <td>38.0</td>\n",
       "      <td>...</td>\n",
       "      <td>0</td>\n",
       "      <td>0</td>\n",
       "      <td>0</td>\n",
       "      <td>0</td>\n",
       "      <td>0</td>\n",
       "      <td>0</td>\n",
       "      <td>1</td>\n",
       "      <td>0</td>\n",
       "      <td>0</td>\n",
       "      <td>0</td>\n",
       "    </tr>\n",
       "  </tbody>\n",
       "</table>\n",
       "<p>5 rows × 60 columns</p>\n",
       "</div>"
      ],
      "text/plain": [
       "   overall_rating  potential  crossing  finishing  heading_accuracy  \\\n",
       "0            67.0       71.0      49.0       44.0              71.0   \n",
       "1            67.0       71.0      49.0       44.0              71.0   \n",
       "2            62.0       66.0      49.0       44.0              71.0   \n",
       "3            61.0       65.0      48.0       43.0              70.0   \n",
       "4            61.0       65.0      48.0       43.0              70.0   \n",
       "\n",
       "   short_passing  volleys  dribbling  curve  free_kick_accuracy  ...  \\\n",
       "0           61.0     44.0       51.0   45.0                39.0  ...   \n",
       "1           61.0     44.0       51.0   45.0                39.0  ...   \n",
       "2           61.0     44.0       51.0   45.0                39.0  ...   \n",
       "3           60.0     43.0       50.0   44.0                38.0  ...   \n",
       "4           60.0     43.0       50.0   44.0                38.0  ...   \n",
       "\n",
       "   defensive_work_rate_8  defensive_work_rate_9  defensive_work_rate_ean  \\\n",
       "0                      0                      0                        0   \n",
       "1                      0                      0                        0   \n",
       "2                      0                      0                        0   \n",
       "3                      0                      0                        0   \n",
       "4                      0                      0                        0   \n",
       "\n",
       "   defensive_work_rate_es  defensive_work_rate_high  defensive_work_rate_low  \\\n",
       "0                       0                         0                        0   \n",
       "1                       0                         0                        0   \n",
       "2                       0                         0                        0   \n",
       "3                       0                         0                        0   \n",
       "4                       0                         0                        0   \n",
       "\n",
       "   defensive_work_rate_medium  defensive_work_rate_o  \\\n",
       "0                           1                      0   \n",
       "1                           1                      0   \n",
       "2                           1                      0   \n",
       "3                           1                      0   \n",
       "4                           1                      0   \n",
       "\n",
       "   defensive_work_rate_ormal  defensive_work_rate_tocky  \n",
       "0                          0                          0  \n",
       "1                          0                          0  \n",
       "2                          0                          0  \n",
       "3                          0                          0  \n",
       "4                          0                          0  \n",
       "\n",
       "[5 rows x 60 columns]"
      ]
     },
     "execution_count": 2,
     "metadata": {},
     "output_type": "execute_result"
    }
   ],
   "source": [
    "df=pd.read_csv('../data/data.csv')\n",
    "df.head()"
   ]
  },
  {
   "cell_type": "code",
   "execution_count": 3,
   "metadata": {},
   "outputs": [],
   "source": [
    "from sklearn.model_selection import train_test_split\n",
    "X = df.drop(columns=[\"overall_rating\"],axis=1)\n",
    "y = df['overall_rating']"
   ]
  },
  {
   "cell_type": "markdown",
   "metadata": {},
   "source": [
    "## Feature Selection"
   ]
  },
  {
   "cell_type": "code",
   "execution_count": 6,
   "metadata": {},
   "outputs": [],
   "source": [
    "from sklearn.feature_selection import SelectFromModel\n",
    "from sklearn.ensemble import AdaBoostRegressor\n",
    "from xgboost import XGBRegressor"
   ]
  },
  {
   "cell_type": "code",
   "execution_count": 7,
   "metadata": {},
   "outputs": [],
   "source": [
    "#!pip install xgboost"
   ]
  },
  {
   "cell_type": "code",
   "execution_count": 8,
   "metadata": {},
   "outputs": [],
   "source": [
    "estimator1 = AdaBoostRegressor(random_state=121, n_estimators=60)\n",
    "selector1 = SelectFromModel(estimator1)\n",
    "selector1 = selector1.fit(X, y) "
   ]
  },
  {
   "cell_type": "code",
   "execution_count": 9,
   "metadata": {},
   "outputs": [],
   "source": [
    "estimator2 = XGBRegressor( n_estimators = 60, seed = 121)\n",
    "selector2 = SelectFromModel(estimator2)\n",
    "selector2 = selector2.fit(X, y) "
   ]
  },
  {
   "cell_type": "code",
   "execution_count": 10,
   "metadata": {},
   "outputs": [
    {
     "name": "stdout",
     "output_type": "stream",
     "text": [
      "Selection status:  [ True False  True  True False False  True False False False  True False\n",
      " False False  True False  True False False  True False  True False False\n",
      " False False  True False False  True  True  True  True False False False\n",
      " False False False False False False False False False False False False\n",
      " False False False False False False False False False False False]\n"
     ]
    }
   ],
   "source": [
    "features_from_selector1= selector1.get_support()\n",
    "print(\"Selection status: \", features_from_selector1)"
   ]
  },
  {
   "cell_type": "code",
   "execution_count": 12,
   "metadata": {},
   "outputs": [
    {
     "name": "stdout",
     "output_type": "stream",
     "text": [
      "All features:\n",
      "['potential' 'crossing' 'finishing' 'heading_accuracy' 'short_passing'\n",
      " 'volleys' 'dribbling' 'curve' 'free_kick_accuracy' 'long_passing'\n",
      " 'ball_control' 'acceleration' 'sprint_speed' 'agility' 'reactions'\n",
      " 'balance' 'shot_power' 'jumping' 'stamina' 'strength' 'long_shots'\n",
      " 'aggression' 'interceptions' 'positioning' 'vision' 'penalties' 'marking'\n",
      " 'standing_tackle' 'sliding_tackle' 'gk_diving' 'gk_handling' 'gk_kicking'\n",
      " 'gk_positioning' 'gk_reflexes' 'preferred_foot_right'\n",
      " 'attacking_work_rate_high' 'attacking_work_rate_le'\n",
      " 'attacking_work_rate_low' 'attacking_work_rate_medium'\n",
      " 'attacking_work_rate_norm' 'attacking_work_rate_stoc'\n",
      " 'attacking_work_rate_y' 'defensive_work_rate_1' 'defensive_work_rate_2'\n",
      " 'defensive_work_rate_3' 'defensive_work_rate_4' 'defensive_work_rate_5'\n",
      " 'defensive_work_rate_6' 'defensive_work_rate_7' 'defensive_work_rate_8'\n",
      " 'defensive_work_rate_9' 'defensive_work_rate_ean'\n",
      " 'defensive_work_rate_es' 'defensive_work_rate_high'\n",
      " 'defensive_work_rate_low' 'defensive_work_rate_medium'\n",
      " 'defensive_work_rate_o' 'defensive_work_rate_ormal'\n",
      " 'defensive_work_rate_tocky']\n"
     ]
    }
   ],
   "source": [
    "features = np.array(X.columns)\n",
    "print(\"All features:\")\n",
    "print(features)"
   ]
  },
  {
   "cell_type": "code",
   "execution_count": 14,
   "metadata": {},
   "outputs": [
    {
     "name": "stdout",
     "output_type": "stream",
     "text": [
      "Selected features from Selector1:\n",
      "['potential' 'finishing' 'heading_accuracy' 'dribbling' 'ball_control'\n",
      " 'reactions' 'shot_power' 'strength' 'aggression' 'marking' 'gk_diving'\n",
      " 'gk_handling' 'gk_kicking' 'gk_positioning']\n"
     ]
    }
   ],
   "source": [
    "print(\"Selected features from Selector1:\")\n",
    "print(features[features_from_selector1])\n"
   ]
  },
  {
   "cell_type": "code",
   "execution_count": 15,
   "metadata": {},
   "outputs": [
    {
     "name": "stdout",
     "output_type": "stream",
     "text": [
      "Selection status:  [ True False False  True  True False  True False False False  True False\n",
      " False False  True False  True False False False False False  True  True\n",
      " False False  True  True False  True  True False  True  True False False\n",
      " False False False False False False False False False False False False\n",
      " False False False False False False False False False False False]\n"
     ]
    }
   ],
   "source": [
    "features_from_selector2= selector2.get_support()\n",
    "print(\"Selection status: \", features_from_selector2)"
   ]
  },
  {
   "cell_type": "code",
   "execution_count": 16,
   "metadata": {},
   "outputs": [
    {
     "name": "stdout",
     "output_type": "stream",
     "text": [
      "Selected features from Selector2:\n",
      "['potential' 'heading_accuracy' 'short_passing' 'dribbling' 'ball_control'\n",
      " 'reactions' 'shot_power' 'interceptions' 'positioning' 'marking'\n",
      " 'standing_tackle' 'gk_diving' 'gk_handling' 'gk_positioning'\n",
      " 'gk_reflexes']\n"
     ]
    }
   ],
   "source": [
    "print(\"Selected features from Selector2:\")\n",
    "print(features[features_from_selector2])"
   ]
  },
  {
   "cell_type": "markdown",
   "metadata": {},
   "source": [
    "### Comparing both selected features!!"
   ]
  },
  {
   "cell_type": "code",
   "execution_count": 18,
   "metadata": {},
   "outputs": [
    {
     "name": "stdout",
     "output_type": "stream",
     "text": [
      "Selected features from Selector1:\n",
      "['potential' 'finishing' 'heading_accuracy' 'dribbling' 'ball_control'\n",
      " 'reactions' 'shot_power' 'strength' 'aggression' 'marking' 'gk_diving'\n",
      " 'gk_handling' 'gk_kicking' 'gk_positioning']\n",
      "\n",
      "###########################################################################\n",
      "\n",
      "Selected features from Selector2:\n",
      "['potential' 'heading_accuracy' 'short_passing' 'dribbling' 'ball_control'\n",
      " 'reactions' 'shot_power' 'interceptions' 'positioning' 'marking'\n",
      " 'standing_tackle' 'gk_diving' 'gk_handling' 'gk_positioning'\n",
      " 'gk_reflexes']\n"
     ]
    }
   ],
   "source": [
    "print(\"Selected features from Selector1:\")\n",
    "print(features[features_from_selector1])\n",
    "\n",
    "print()\n",
    "print(\"###########################################################################\\n\")\n",
    "\n",
    "print(\"Selected features from Selector2:\")\n",
    "print(features[features_from_selector2])"
   ]
  },
  {
   "cell_type": "markdown",
   "metadata": {},
   "source": [
    "#### Now we will be combining the features from both the list"
   ]
  },
  {
   "cell_type": "code",
   "execution_count": 21,
   "metadata": {},
   "outputs": [
    {
     "data": {
      "text/plain": [
       "15"
      ]
     },
     "execution_count": 21,
     "metadata": {},
     "output_type": "execute_result"
    }
   ],
   "source": [
    "len(features[features_from_selector2])"
   ]
  },
  {
   "cell_type": "code",
   "execution_count": 22,
   "metadata": {},
   "outputs": [
    {
     "data": {
      "text/plain": [
       "14"
      ]
     },
     "execution_count": 22,
     "metadata": {},
     "output_type": "execute_result"
    }
   ],
   "source": [
    "len(features[features_from_selector1])"
   ]
  },
  {
   "cell_type": "code",
   "execution_count": 25,
   "metadata": {},
   "outputs": [
    {
     "data": {
      "text/plain": [
       "['potential',\n",
       " 'heading_accuracy',\n",
       " 'short_passing',\n",
       " 'dribbling',\n",
       " 'ball_control',\n",
       " 'reactions',\n",
       " 'shot_power',\n",
       " 'interceptions',\n",
       " 'positioning',\n",
       " 'marking',\n",
       " 'standing_tackle',\n",
       " 'gk_diving',\n",
       " 'gk_handling',\n",
       " 'gk_positioning',\n",
       " 'gk_reflexes']"
      ]
     },
     "execution_count": 25,
     "metadata": {},
     "output_type": "execute_result"
    }
   ],
   "source": [
    "all_features_selected=[]\n",
    "for i in features[features_from_selector2]:\n",
    "    all_features_selected.append(i)\n",
    "\n",
    "all_features_selected"
   ]
  },
  {
   "cell_type": "code",
   "execution_count": 26,
   "metadata": {},
   "outputs": [],
   "source": [
    "for i in features[features_from_selector1]:\n",
    "    all_features_selected.append(i)"
   ]
  },
  {
   "cell_type": "code",
   "execution_count": 32,
   "metadata": {},
   "outputs": [],
   "source": [
    "all_features_selected=list(set(all_features_selected))"
   ]
  },
  {
   "cell_type": "code",
   "execution_count": 33,
   "metadata": {},
   "outputs": [
    {
     "data": {
      "text/plain": [
       "19"
      ]
     },
     "execution_count": 33,
     "metadata": {},
     "output_type": "execute_result"
    }
   ],
   "source": [
    "len(all_features_selected)"
   ]
  },
  {
   "cell_type": "code",
   "execution_count": 35,
   "metadata": {},
   "outputs": [
    {
     "name": "stdout",
     "output_type": "stream",
     "text": [
      "We will be using Features: ['gk_positioning', 'aggression', 'strength', 'dribbling', 'finishing', 'heading_accuracy', 'interceptions', 'marking', 'short_passing', 'gk_kicking', 'standing_tackle', 'reactions', 'ball_control', 'shot_power', 'gk_diving', 'gk_reflexes', 'potential', 'gk_handling', 'positioning']\n"
     ]
    }
   ],
   "source": [
    "print(\"We will be using Features:\" , all_features_selected)"
   ]
  },
  {
   "cell_type": "code",
   "execution_count": null,
   "metadata": {},
   "outputs": [],
   "source": []
  }
 ],
 "metadata": {
  "kernelspec": {
   "display_name": "Python 3.9.13 ('base')",
   "language": "python",
   "name": "python3"
  },
  "language_info": {
   "codemirror_mode": {
    "name": "ipython",
    "version": 3
   },
   "file_extension": ".py",
   "mimetype": "text/x-python",
   "name": "python",
   "nbconvert_exporter": "python",
   "pygments_lexer": "ipython3",
   "version": "3.9.13"
  },
  "orig_nbformat": 4,
  "vscode": {
   "interpreter": {
    "hash": "49cb93f377a7abe7414b7b0f21fb3017538004a126cf690fb524202736b7fb92"
   }
  }
 },
 "nbformat": 4,
 "nbformat_minor": 2
}
